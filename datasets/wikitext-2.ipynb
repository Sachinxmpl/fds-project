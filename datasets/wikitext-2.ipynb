{
 "cells": [
  {
   "cell_type": "code",
   "execution_count": 1,
   "metadata": {},
   "outputs": [
    {
     "name": "stderr",
     "output_type": "stream",
     "text": [
      "c:\\Users\\Sachin\\AppData\\Local\\Programs\\Python\\Python312\\Lib\\site-packages\\tqdm\\auto.py:21: TqdmWarning: IProgress not found. Please update jupyter and ipywidgets. See https://ipywidgets.readthedocs.io/en/stable/user_install.html\n",
      "  from .autonotebook import tqdm as notebook_tqdm\n"
     ]
    },
    {
     "name": "stdout",
     "output_type": "stream",
     "text": [
      "Files saved as wikitext2_train.txt and wikitext2_validation.txt\n"
     ]
    }
   ],
   "source": [
    "from datasets import load_dataset\n",
    "\n",
    "# Load the raw WikiText-2 dataset\n",
    "dataset = load_dataset(\"wikitext\", \"wikitext-2-raw-v1\")\n",
    "\n",
    "# Extract train and validation text\n",
    "train_text = \"\\n\".join(dataset[\"train\"][\"text\"])\n",
    "val_text = \"\\n\".join(dataset[\"validation\"][\"text\"])\n",
    "\n",
    "# Save to .txt files\n",
    "with open(\"wikitext2_train.txt\", \"w\", encoding=\"utf-8\") as f:\n",
    "    f.write(train_text)\n",
    "\n",
    "with open(\"wikitext2_validation.txt\", \"w\", encoding=\"utf-8\") as f:\n",
    "    f.write(val_text)\n",
    "\n",
    "print(\"Files saved as wikitext2_train.txt and wikitext2_validation.txt\")\n"
   ]
  },
  {
   "cell_type": "code",
   "execution_count": null,
   "metadata": {},
   "outputs": [],
   "source": []
  }
 ],
 "metadata": {
  "kernelspec": {
   "display_name": "Python 3",
   "language": "python",
   "name": "python3"
  },
  "language_info": {
   "codemirror_mode": {
    "name": "ipython",
    "version": 3
   },
   "file_extension": ".py",
   "mimetype": "text/x-python",
   "name": "python",
   "nbconvert_exporter": "python",
   "pygments_lexer": "ipython3",
   "version": "3.12.3"
  }
 },
 "nbformat": 4,
 "nbformat_minor": 2
}
